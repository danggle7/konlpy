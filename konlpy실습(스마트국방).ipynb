{
  "nbformat": 4,
  "nbformat_minor": 0,
  "metadata": {
    "colab": {
      "provenance": [],
      "gpuType": "T4"
    },
    "kernelspec": {
      "name": "python3",
      "display_name": "Python 3"
    },
    "language_info": {
      "name": "python"
    },
    "accelerator": "GPU"
  },
  "cells": [
    {
      "cell_type": "code",
      "execution_count": null,
      "metadata": {
        "id": "Ehjxc1DlEqfV"
      },
      "outputs": [],
      "source": [
        "!pip install konlpy"
      ]
    },
    {
      "cell_type": "code",
      "source": [
        "from konlpy.tag import Okt\n",
        "\n",
        "okt = Okt()   # 형태소 분석기\n",
        "text = \"아버지가 방에 들어가셨다.\"\n",
        "print(okt.nouns(text))    # 명사만 찾아라"
      ],
      "metadata": {
        "id": "DYDYLC_2EtEy"
      },
      "execution_count": null,
      "outputs": []
    },
    {
      "cell_type": "code",
      "source": [
        "print(okt.pos(text))   # 분리 및 형태소 달기"
      ],
      "metadata": {
        "id": "5v23Otg3FOXK"
      },
      "execution_count": null,
      "outputs": []
    },
    {
      "cell_type": "code",
      "source": [
        "print(okt.morphs(text, stem=True))  # 형태소 단위   stem : 각 단어에서 어간(원형) 추출"
      ],
      "metadata": {
        "id": "0upJIV0zGHBy"
      },
      "execution_count": null,
      "outputs": []
    },
    {
      "cell_type": "code",
      "source": [
        "from konlpy.tag import Okt\n",
        "\n",
        "# Okt 객체 생성\n",
        "okt = Okt()\n",
        "\n",
        "# 분석할 텍스트\n",
        "text = \"아버지가 방에 들어가신다\"\n",
        "\n",
        "# 형태소 분석\n",
        "morphs = okt.morphs(text)\n",
        "print(\"Morphs:\", morphs)\n",
        "\n",
        "# 품사 태깅\n",
        "pos = okt.pos(text)\n",
        "print(\"POS:\", pos)\n",
        "\n",
        "# 명사 추출\n",
        "nouns = okt.nouns(text)\n",
        "print(\"Nouns:\", nouns)\n",
        "\n",
        "\n",
        "# 어간 추출\n",
        "stemmed_words = okt.morphs(text, stem=True)\n",
        "print(\"Stemmed:\", stemmed_words)\n"
      ],
      "metadata": {
        "id": "WS1TRIdIGW6b"
      },
      "execution_count": null,
      "outputs": []
    },
    {
      "cell_type": "code",
      "source": [
        "from konlpy.tag import Okt\n",
        "\n",
        "# 파일 경로 설정\n",
        "file_path = 'riss_smart_20241119.txt'\n",
        "\n",
        "# 파일 열기 및 내용 읽기\n",
        "with open(file_path, 'r', encoding='utf-8') as file:\n",
        "    text = file.read()\n",
        "\n",
        "\n",
        "print(text)\n"
      ],
      "metadata": {
        "id": "K1yXU-Dk8VPV"
      },
      "execution_count": null,
      "outputs": []
    },
    {
      "cell_type": "code",
      "source": [
        "# 명사 추출\n",
        "nouns = okt.nouns(text)\n",
        "print(\"Nouns:\", nouns)"
      ],
      "metadata": {
        "id": "Mc9BS4Zp-EjT"
      },
      "execution_count": null,
      "outputs": []
    },
    {
      "cell_type": "code",
      "source": [
        "# 명사 추출 (한 글자 제외)\n",
        "filtered_nouns = [noun for noun in okt.nouns(text) if len(noun) > 1]\n",
        "print(\"한 글자 제외 Nouns:\", filtered_nouns)"
      ],
      "metadata": {
        "id": "E50I-RmCAh7R"
      },
      "execution_count": null,
      "outputs": []
    },
    {
      "cell_type": "code",
      "source": [
        "with open(\"my_list.txt\", \"w\") as file:\n",
        "    file.write(\", \".join(filtered_nouns))"
      ],
      "metadata": {
        "id": "Y2YaZdKfOGz0"
      },
      "execution_count": 10,
      "outputs": []
    },
    {
      "cell_type": "code",
      "source": [
        "!pip install konlpy wordcloud matplotlib"
      ],
      "metadata": {
        "id": "8zyoGy1xBM1A"
      },
      "execution_count": null,
      "outputs": []
    },
    {
      "cell_type": "code",
      "source": [
        "from wordcloud import WordCloud\n",
        "import matplotlib.pyplot as plt"
      ],
      "metadata": {
        "id": "-ed7UCSuBYK_"
      },
      "execution_count": 13,
      "outputs": []
    },
    {
      "cell_type": "code",
      "source": [
        "!apt-get install -y fonts-nanum* # 나눔글꼴 설치"
      ],
      "metadata": {
        "id": "eTAjR45cCIWY"
      },
      "execution_count": null,
      "outputs": []
    },
    {
      "cell_type": "code",
      "source": [
        "nouns_text = ' '.join(filtered_nouns)\n",
        "\n",
        "# 워드 클라우드 생성\n",
        "wordcloud = WordCloud(\n",
        "    font_path='path/to/NanumGothic.ttf',  # 한글 폰트 파일 경로 설정\n",
        "    width=800,\n",
        "    height=600,\n",
        "    background_color='white'\n",
        ").generate(nouns_text)\n",
        "\n",
        "# 워드 클라우드 시각화\n",
        "plt.figure(figsize=(10, 8))\n",
        "plt.imshow(wordcloud, interpolation='bilinear')\n",
        "plt.axis('off')  # 축 제거\n",
        "plt.show()"
      ],
      "metadata": {
        "id": "Gd93Aec2A7EK"
      },
      "execution_count": null,
      "outputs": []
    },
    {
      "cell_type": "code",
      "source": [],
      "metadata": {
        "id": "U6PrTk-qBIX4"
      },
      "execution_count": null,
      "outputs": []
    }
  ]
}